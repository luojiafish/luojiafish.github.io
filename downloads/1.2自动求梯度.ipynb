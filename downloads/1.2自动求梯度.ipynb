{
 "cells": [
  {
   "cell_type": "code",
   "execution_count": 1,
   "id": "3c218ba7",
   "metadata": {},
   "outputs": [],
   "source": [
    "from mxnet import autograd, nd"
   ]
  },
  {
   "cell_type": "code",
   "execution_count": 5,
   "id": "38c4308e",
   "metadata": {},
   "outputs": [
    {
     "data": {
      "text/plain": [
       "\n",
       "[[ 0.]\n",
       " [ 4.]\n",
       " [ 8.]\n",
       " [12.]]\n",
       "<NDArray 4x1 @cpu(0)>"
      ]
     },
     "execution_count": 5,
     "metadata": {},
     "output_type": "execute_result"
    }
   ],
   "source": [
    "x = nd.arange(4).reshape((4, 1))\n",
    "x.attach_grad()#申请储存梯度所需内存，mxnet不会自动分配\n",
    "with autograd.record():\n",
    "    y = 2 * nd.dot(x.T, x)\n",
    "y.backward()\n",
    "assert(x.grad - 4 * x).norm().asscalar() == 0\n",
    "x.grad"
   ]
  },
  {
   "cell_type": "markdown",
   "id": "1b672786-4a78-4801-bd14-833867f29181",
   "metadata": {},
   "source": [
    "## 对Python控制流求梯度"
   ]
  },
  {
   "cell_type": "code",
   "execution_count": 24,
   "id": "7aefc845-be90-4e81-9dc4-3d1f6f7ce937",
   "metadata": {},
   "outputs": [
    {
     "name": "stdout",
     "output_type": "stream",
     "text": [
      "\n",
      "[[2. 4.]\n",
      " [6. 8.]]\n",
      "<NDArray 2x2 @cpu(0)>\n"
     ]
    },
    {
     "data": {
      "text/plain": [
       "\n",
       "[[256. 256.]\n",
       " [256. 256.]]\n",
       "<NDArray 2x2 @cpu(0)>"
      ]
     },
     "execution_count": 24,
     "metadata": {},
     "output_type": "execute_result"
    }
   ],
   "source": [
    "def f(a):\n",
    "    b = a * 2\n",
    "    while b.norm().asscalar() < 1000: #\\\\b\\\\是否小于1000\n",
    "        b = b * 2\n",
    "    if b.sum().asscalar() > 0: #.asscalar()：把这个 NDArray 标量拉成 Python 标量（float）\n",
    "        c = b\n",
    "    else:\n",
    "        c = 100 * b\n",
    "    return c\n",
    "a = nd.array([[1., 2.],\n",
    "              [3., 4.]])\n",
    "a.attach_grad()\n",
    "with autograd.record():\n",
    "    c = f(a)\n",
    "c.backward()\n",
    "a.grad"
   ]
  },
  {
   "cell_type": "markdown",
   "id": "0f0bbe04",
   "metadata": {},
   "source": [
    "## 链式传播\n",
    "https://www.bilibili.com/video/BV1QAjmzCEgx/"
   ]
  },
  {
   "cell_type": "code",
   "execution_count": null,
   "id": "ce6f095f",
   "metadata": {},
   "outputs": [],
   "source": []
  }
 ],
 "metadata": {
  "kernelspec": {
   "display_name": "Python 3",
   "language": "python",
   "name": "python3"
  },
  "language_info": {
   "codemirror_mode": {
    "name": "ipython",
    "version": 3
   },
   "file_extension": ".py",
   "mimetype": "text/x-python",
   "name": "python",
   "nbconvert_exporter": "python",
   "pygments_lexer": "ipython3",
   "version": "3.6.13"
  }
 },
 "nbformat": 4,
 "nbformat_minor": 5
}
